{
  "nbformat": 4,
  "nbformat_minor": 0,
  "metadata": {
    "colab": {
      "name": "test group work.ipynb",
      "provenance": [],
      "include_colab_link": true
    },
    "kernelspec": {
      "name": "python3",
      "display_name": "Python 3"
    }
  },
  "cells": [
    {
      "cell_type": "markdown",
      "metadata": {
        "id": "view-in-github",
        "colab_type": "text"
      },
      "source": [
        "<a href=\"https://colab.research.google.com/github/alexeiveselov92/other_projects/blob/master/test_group_work.ipynb\" target=\"_parent\"><img src=\"https://colab.research.google.com/assets/colab-badge.svg\" alt=\"Open In Colab\"/></a>"
      ]
    },
    {
      "cell_type": "code",
      "metadata": {
        "id": "WbtjzFkWVGBH",
        "colab_type": "code",
        "colab": {
          "base_uri": "https://localhost:8080/",
          "height": 34
        },
        "outputId": "d5a7624d-4d68-457a-e92d-3cad3ffc1ebb"
      },
      "source": [
        "from google.colab import drive\n",
        "drive.mount('/content/drive')"
      ],
      "execution_count": null,
      "outputs": [
        {
          "output_type": "stream",
          "text": [
            "Drive already mounted at /content/drive; to attempt to forcibly remount, call drive.mount(\"/content/drive\", force_remount=True).\n"
          ],
          "name": "stdout"
        }
      ]
    },
    {
      "cell_type": "code",
      "metadata": {
        "id": "S55eP-o1Mk_G",
        "colab_type": "code",
        "colab": {
          "base_uri": "https://localhost:8080/",
          "height": 227
        },
        "outputId": "d12800db-da2f-47a9-d36f-3dbfb13dae79"
      },
      "source": [
        "import pandas as pd\n",
        "import numpy as np\n",
        "list_1 = [1,2,3,4,5,6]\n",
        "list_2 = [77,88,99,66,55,44]\n",
        "\n",
        "\n",
        "list_3 = ['q','w','e','r','t','y']\n",
        "\n",
        "df = pd.DataFrame({'1':list_1, '2':list_2, '3':list_3})\n",
        "df"
      ],
      "execution_count": null,
      "outputs": [
        {
          "output_type": "execute_result",
          "data": {
            "text/html": [
              "<div>\n",
              "<style scoped>\n",
              "    .dataframe tbody tr th:only-of-type {\n",
              "        vertical-align: middle;\n",
              "    }\n",
              "\n",
              "    .dataframe tbody tr th {\n",
              "        vertical-align: top;\n",
              "    }\n",
              "\n",
              "    .dataframe thead th {\n",
              "        text-align: right;\n",
              "    }\n",
              "</style>\n",
              "<table border=\"1\" class=\"dataframe\">\n",
              "  <thead>\n",
              "    <tr style=\"text-align: right;\">\n",
              "      <th></th>\n",
              "      <th>1</th>\n",
              "      <th>2</th>\n",
              "      <th>3</th>\n",
              "    </tr>\n",
              "  </thead>\n",
              "  <tbody>\n",
              "    <tr>\n",
              "      <th>0</th>\n",
              "      <td>1</td>\n",
              "      <td>77</td>\n",
              "      <td>q</td>\n",
              "    </tr>\n",
              "    <tr>\n",
              "      <th>1</th>\n",
              "      <td>2</td>\n",
              "      <td>88</td>\n",
              "      <td>w</td>\n",
              "    </tr>\n",
              "    <tr>\n",
              "      <th>2</th>\n",
              "      <td>3</td>\n",
              "      <td>99</td>\n",
              "      <td>e</td>\n",
              "    </tr>\n",
              "    <tr>\n",
              "      <th>3</th>\n",
              "      <td>4</td>\n",
              "      <td>66</td>\n",
              "      <td>r</td>\n",
              "    </tr>\n",
              "    <tr>\n",
              "      <th>4</th>\n",
              "      <td>5</td>\n",
              "      <td>55</td>\n",
              "      <td>t</td>\n",
              "    </tr>\n",
              "    <tr>\n",
              "      <th>5</th>\n",
              "      <td>6</td>\n",
              "      <td>44</td>\n",
              "      <td>y</td>\n",
              "    </tr>\n",
              "  </tbody>\n",
              "</table>\n",
              "</div>"
            ],
            "text/plain": [
              "   1   2  3\n",
              "0  1  77  q\n",
              "1  2  88  w\n",
              "2  3  99  e\n",
              "3  4  66  r\n",
              "4  5  55  t\n",
              "5  6  44  y"
            ]
          },
          "metadata": {
            "tags": []
          },
          "execution_count": 4
        }
      ]
    },
    {
      "cell_type": "code",
      "metadata": {
        "id": "Tb_TO4xIZuN7",
        "colab_type": "code",
        "colab": {
          "base_uri": "https://localhost:8080/",
          "height": 34
        },
        "outputId": "fd56f414-6b9e-444c-caf3-d5b58fd60989"
      },
      "source": [
        "\n",
        "!ls ~/.ssh"
      ],
      "execution_count": null,
      "outputs": [
        {
          "output_type": "stream",
          "text": [
            "id_rsa\tid_rsa.pub\n"
          ],
          "name": "stdout"
        }
      ]
    },
    {
      "cell_type": "code",
      "metadata": {
        "id": "fyc7HebT9_y2",
        "colab_type": "code",
        "colab": {
          "base_uri": "https://localhost:8080/",
          "height": 54
        },
        "outputId": "a985be5a-abd8-41dc-d3cd-350cce09fc2f"
      },
      "source": [
        "!cat ~/.ssh/id_rsa.pub"
      ],
      "execution_count": null,
      "outputs": [
        {
          "output_type": "stream",
          "text": [
            "ssh-rsa AAAAB3NzaC1yc2EAAAADAQABAAACAQDfxcHXmOcSiADUDZd3ti/tA73EB5crh6zW6s8p/uje6dA0OyC0Xp2NhgRLzFQFy0Ktdo7OTXSIkRRgP2ECEc58OrV3StPuPVSbfebe6vGexj5iWokqrvv0smyYChewHFcwnxGkBDwJU5kOA1Q5Mc+NB2EwmzWbGWfYERkkXRhyzZgwyvpIFZHAnSK6xmf9lCoqszExDxgOrWnTwFjCUVnSFHwr+21Ta/+QyJhimKL5vG5GU32RvueBaoUBL2S1WyNZACuzvoaQBcZIGfNc7WMWoHw6uRmbox815R/AYm9QRUN/AfSW7nGB2bdZ+dPtUGxVFsKV5SpwKri/14MzCkopssSPc7nqfy3oNvbvXji04DaVlLwEzyLet1oQxAaXXktiNhSJH94LF7FYd/fmUnINy+r6E+0g+DEdsH468Bx48jtSCeMGS8DYHWyu6oojVoNL0gve9E6XxOrsIZUwy12rznsHtRIgAGxdlAXFvfv+kl6oxVavSoPFLTsA+m2L+8NP36cLaHL/ft0LJKMr4LzoiiI3ISCOxBsJWPcg6A39MnQumXYi9QpO/pRtLVhLV20kujMfqvYPdOSdIVEGygVF3VhqLzLz4CunAtSonzVed/rTnAG5LyFl+tlolp3P0jNrHOJCCi24ZGnyr8xB/pzh8ZaA2VSKtjxDIgvx9JJ2QQ== root@f9f1ff695b73\n"
          ],
          "name": "stdout"
        }
      ]
    },
    {
      "cell_type": "code",
      "metadata": {
        "id": "CC6I8YgsXx8d",
        "colab_type": "code",
        "colab": {
          "base_uri": "https://localhost:8080/",
          "height": 34
        },
        "outputId": "58d72af2-942e-4136-9b58-2aede3370741"
      },
      "source": [
        "!git remote add origin https://gitlab.com/Alexei_Veselov/test_project.git\n",
        "\n"
      ],
      "execution_count": null,
      "outputs": [
        {
          "output_type": "stream",
          "text": [
            "fatal: not a git repository (or any of the parent directories): .git\n"
          ],
          "name": "stdout"
        }
      ]
    },
    {
      "cell_type": "code",
      "metadata": {
        "id": "Xofy7ulTZBdc",
        "colab_type": "code",
        "colab": {
          "base_uri": "https://localhost:8080/",
          "height": 102
        },
        "outputId": "6beb1a36-5d18-4f74-babd-ad9469533817"
      },
      "source": [
        " \n",
        " \n",
        " !ssh-keygen -t rsa -C “alexei.veselov92@gmail.com”"
      ],
      "execution_count": null,
      "outputs": [
        {
          "output_type": "stream",
          "text": [
            "Generating public/private rsa key pair.\n",
            "Enter file in which to save the key (/root/.ssh/id_rsa): /root/ssh-colab/id_rsa\n",
            "Enter passphrase (empty for no passphrase): asusk50af\n",
            "Enter same passphrase again: asusk50af\n",
            "Saving key \"/root/ssh-colab/id_rsa\" failed: No such file or directory\n"
          ],
          "name": "stdout"
        }
      ]
    },
    {
      "cell_type": "code",
      "metadata": {
        "id": "e5gm-y35Zniy",
        "colab_type": "code",
        "colab": {
          "base_uri": "https://localhost:8080/",
          "height": 54
        },
        "outputId": "fd0d1dc7-3595-4ef4-83c6-4f1cf7687047"
      },
      "source": [
        "!cat ~/.ssh/id_rsa.pub"
      ],
      "execution_count": null,
      "outputs": [
        {
          "output_type": "stream",
          "text": [
            "ssh-rsa AAAAB3NzaC1yc2EAAAADAQABAAABAQDIXojt3MQF8UwkzrCBGcuU3/fSBxl8ulcp8miuagtiPVWSRUk1Kas10lpBt0m8fupuVhUjFuuCvJso/b2hQO6iUugewmUjkolCK0bcH9/D/BCyslJ0e5GlD6RVLwLVyoM+dqBjvV9ZrFj+Ihg0541Ud3nmYjush9wWSHTIYOK251CfPeYZT0PrcK/RPO6UuahcHcc8eabm60RCsm/cgPfDGCLCPe9U74YF5bJOFf+ozSguhD2g3ADKfRz2lihSMnfof9kbaS4hEWWlBvXwYd4dWncS5j/jL20/blji1Uuw+43n2DABtKveB+JkSzeezD+9jKW3VYgCMUnrT4CRTjvr “alexei.veselov92@gmail.com”\n"
          ],
          "name": "stdout"
        }
      ]
    },
    {
      "cell_type": "code",
      "metadata": {
        "id": "TvdcKRq3g1aj",
        "colab_type": "code",
        "colab": {
          "base_uri": "https://localhost:8080/",
          "height": 51
        },
        "outputId": "c0c26462-1dfe-4992-c706-82de47365b18"
      },
      "source": [
        "!touch config\n",
        "!edit config"
      ],
      "execution_count": null,
      "outputs": [
        {
          "output_type": "stream",
          "text": [
            "Warning: unknown mime-type for \"config\" -- using \"application/octet-stream\"\n",
            "Error: no \"edit\" mailcap rules found for type \"application/octet-stream\"\n"
          ],
          "name": "stdout"
        }
      ]
    },
    {
      "cell_type": "code",
      "metadata": {
        "id": "xWrt6meXiIbo",
        "colab_type": "code",
        "colab": {
          "base_uri": "https://localhost:8080/",
          "height": 34
        },
        "outputId": "02b2209b-19c3-4714-f8cb-1cb192aea293"
      },
      "source": [
        "!tar -czvf ssh.tar.gz ssh-colab"
      ],
      "execution_count": null,
      "outputs": [
        {
          "output_type": "stream",
          "text": [
            "ssh-colab/\n"
          ],
          "name": "stdout"
        }
      ]
    },
    {
      "cell_type": "code",
      "metadata": {
        "id": "gXF1c4fOojxQ",
        "colab_type": "code",
        "colab": {
          "base_uri": "https://localhost:8080/",
          "height": 34
        },
        "outputId": "74db15d1-a841-4cf2-d38e-25fa7787aa55"
      },
      "source": [
        "list_test = [1,2,3,4,5,6,7,8,9,10]\n",
        "list_test"
      ],
      "execution_count": 2,
      "outputs": [
        {
          "output_type": "execute_result",
          "data": {
            "text/plain": [
              "[1, 2, 3, 4, 5, 6, 7, 8, 9, 10]"
            ]
          },
          "metadata": {
            "tags": []
          },
          "execution_count": 2
        }
      ]
    }
  ]
}