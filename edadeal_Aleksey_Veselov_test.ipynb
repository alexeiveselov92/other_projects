{
 "cells": [
  {
   "cell_type": "markdown",
   "metadata": {
    "toc": true
   },
   "source": [
    "<h1>Оглавление<span class=\"tocSkip\"></span></h1>\n",
    "<div class=\"toc\"><ul class=\"toc-item\"><li><span><a href=\"#Задача-№1\" data-toc-modified-id=\"Задача-№1-1\"><span class=\"toc-item-num\">1&nbsp;&nbsp;</span>Задача №1</a></span></li><li><span><a href=\"#Задача-№2\" data-toc-modified-id=\"Задача-№2-2\"><span class=\"toc-item-num\">2&nbsp;&nbsp;</span>Задача №2</a></span></li></ul></div>"
   ]
  },
  {
   "cell_type": "code",
   "execution_count": 78,
   "metadata": {
    "ExecuteTime": {
     "end_time": "2021-03-20T13:30:06.580771Z",
     "start_time": "2021-03-20T13:30:06.574772Z"
    }
   },
   "outputs": [
    {
     "data": {
      "text/html": [
       "<style>.container { width:80% !important; }</style>"
      ],
      "text/plain": [
       "<IPython.core.display.HTML object>"
      ]
     },
     "metadata": {},
     "output_type": "display_data"
    }
   ],
   "source": [
    "# width of cells\n",
    "from IPython.core.display import display, HTML\n",
    "display(HTML(\"<style>.container { width:80% !important; }</style>\"))"
   ]
  },
  {
   "cell_type": "markdown",
   "metadata": {},
   "source": [
    "# Задача №1\n",
    "У вас есть список конфет разных типов, вам нужно собрать одинаковые наборы для своих друзей.\n",
    "\n",
    "Какому максимальному числу друзей вы сможете собрать наборы так, чтобы раздарить все конфеты.\n",
    "\n",
    "Реализуйте функцию на питоне, которая принимает на вход список конфет и отдает максимальное число друзей. Формат входных данных - список строк.\n",
    "\n",
    "* ТЕСТ: ['a', 'a', 'a', 'b', 'b', 'b', 'b', 'c', 'c', 'c', 'c', 'c'] ОТВЕТ:1\n",
    "* ТЕСТ: ['a', 'b', 'c', 'a', 'b', 'c', 'c', 'c'] ОТВЕТ:2\n",
    "\n",
    "Задание выполните в блокноте Jupyter или воспользуйтесь другим удобным вам инструментом. Результат выполнения задания — код на на Python — сохраните в файле формата .py или .ipynb и укажите ссылку на этот файл.\n",
    "\n"
   ]
  },
  {
   "cell_type": "code",
   "execution_count": 134,
   "metadata": {
    "ExecuteTime": {
     "end_time": "2021-03-20T13:59:38.886752Z",
     "start_time": "2021-03-20T13:59:38.876748Z"
    }
   },
   "outputs": [],
   "source": [
    "def counts_max_number_of_friends(list_of_candies):\n",
    "    import pandas as pd\n",
    "    series = pd.Series(list_of_candies)\n",
    "    summary = series.value_counts().reset_index().rename(columns = {'index':'candy', 0:'n'})\n",
    "    types_of_candy = summary.shape[0]\n",
    "    for index in summary.index:\n",
    "        possible_numbers_of_recipients = []\n",
    "        x = summary.loc[index]['n']\n",
    "        for i in range(1,x+1):\n",
    "            if x % i == 0:\n",
    "                possible_numbers_of_recipients.append(i)\n",
    "        summary.at[index, 'possible_numbers_of_recipients'] = ''\n",
    "        summary.at[index, 'possible_numbers_of_recipients'] = possible_numbers_of_recipients    \n",
    "    all_possible_numbers_of_recipients = []\n",
    "    for index in summary.index:\n",
    "        all_possible_numbers_of_recipients = all_possible_numbers_of_recipients + summary.loc[index]['possible_numbers_of_recipients']\n",
    "    result = pd.Series(all_possible_numbers_of_recipients).value_counts().reset_index().rename(columns = {'index':'possible_number', 0:'n'})\\\n",
    "    .query('n==@types_of_candy')['possible_number'].max()\n",
    "    return result"
   ]
  },
  {
   "cell_type": "code",
   "execution_count": 135,
   "metadata": {
    "ExecuteTime": {
     "end_time": "2021-03-20T13:59:41.450820Z",
     "start_time": "2021-03-20T13:59:41.425785Z"
    }
   },
   "outputs": [
    {
     "data": {
      "text/plain": [
       "2"
      ]
     },
     "execution_count": 135,
     "metadata": {},
     "output_type": "execute_result"
    }
   ],
   "source": [
    "list_of_candies_1 = ['a', 'a', 'a', 'b', 'b', 'b', 'b', 'c', 'c', 'c', 'c', 'c']\n",
    "list_of_candies_2 = ['a', 'b', 'c', 'a', 'b', 'c', 'c', 'c']\n",
    "\n",
    "counts_max_number_of_friends(list_of_candies_1)\n",
    "counts_max_number_of_friends(list_of_candies_2)"
   ]
  },
  {
   "cell_type": "markdown",
   "metadata": {},
   "source": [
    "# Задача №2\n",
    "Сложная задача\n",
    "\n",
    "Эта задача настолько сложная, что её правильно решают только 5% кандидатов. Более того, даже проводящий собеседование в 2% случаев принимает неверное решение за верное (верные решения он всегда узнаёт). Проводящий собеседование говорит вам, что вы справились с задачей. Какова вероятность, что вы дали правильный ответ?"
   ]
  },
  {
   "cell_type": "code",
   "execution_count": 146,
   "metadata": {
    "ExecuteTime": {
     "end_time": "2021-03-20T15:05:02.827575Z",
     "start_time": "2021-03-20T15:05:01.008180Z"
    },
    "scrolled": true
   },
   "outputs": [
    {
     "name": "stdout",
     "output_type": "stream",
     "text": [
      "0.049928\n",
      "0.018816\n",
      "0.7262888397532876\n"
     ]
    }
   ],
   "source": [
    "# смоделируем ситуацию и посмотрим вероятность\n",
    "true_answer_and_said_yes = 0\n",
    "false_answer_and_said_yes = 0\n",
    "range_n = 1000000\n",
    "for i in range(range_n):\n",
    "    x = random.randint(1,1000)\n",
    "    if x%20==0:\n",
    "        true_answer_and_said_yes = true_answer_and_said_yes + 1\n",
    "    else:\n",
    "        y = random.randint(1,1000)\n",
    "        if y <= 20:\n",
    "            false_answer_and_said_yes = false_answer_and_said_yes + 1\n",
    "\n",
    "true_answer_and_said_yes_proba = true_answer_and_said_yes / range_n\n",
    "false_answer_and_said_yes_proba = false_answer_and_said_yes / range_n\n",
    "all_said_yes_proba = true_answer_and_said_yes_proba + false_answer_and_said_yes_proba\n",
    "\n",
    "print(true_answer_and_said_yes_proba)\n",
    "print(false_answer_and_said_yes_proba)\n",
    "print(true_answer_and_said_yes_proba / all_said_yes_proba)\n",
    "\n",
    "\n"
   ]
  },
  {
   "cell_type": "markdown",
   "metadata": {},
   "source": [
    "Правильный ответ: \n",
    "Нам сказали, что ответ верный. Вероятность, что он правда верный = 0.05, что он неверный = 0.95\\*0.02 = 0.019. Значит из 1000 человек 50 ответят верно и 19 неверно. 50/(50+19) = 0.7246376811594203"
   ]
  },
  {
   "cell_type": "code",
   "execution_count": 147,
   "metadata": {
    "ExecuteTime": {
     "end_time": "2021-03-20T15:09:58.253423Z",
     "start_time": "2021-03-20T15:09:58.246420Z"
    }
   },
   "outputs": [
    {
     "data": {
      "text/plain": [
       "0.7246376811594203"
      ]
     },
     "execution_count": 147,
     "metadata": {},
     "output_type": "execute_result"
    }
   ],
   "source": [
    "50/(50+19)"
   ]
  }
 ],
 "metadata": {
  "hide_input": false,
  "kernelspec": {
   "display_name": "Python 3",
   "language": "python",
   "name": "python3"
  },
  "language_info": {
   "codemirror_mode": {
    "name": "ipython",
    "version": 3
   },
   "file_extension": ".py",
   "mimetype": "text/x-python",
   "name": "python",
   "nbconvert_exporter": "python",
   "pygments_lexer": "ipython3",
   "version": "3.8.5"
  },
  "toc": {
   "base_numbering": 1,
   "nav_menu": {},
   "number_sections": true,
   "sideBar": true,
   "skip_h1_title": false,
   "title_cell": "Оглавление",
   "title_sidebar": "Оглавление",
   "toc_cell": true,
   "toc_position": {},
   "toc_section_display": true,
   "toc_window_display": true
  }
 },
 "nbformat": 4,
 "nbformat_minor": 4
}
